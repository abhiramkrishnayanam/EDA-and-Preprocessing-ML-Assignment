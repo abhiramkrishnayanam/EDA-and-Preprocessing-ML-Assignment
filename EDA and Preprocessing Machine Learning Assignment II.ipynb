{
 "cells": [
  {
   "cell_type": "markdown",
   "id": "a322cbec-630e-4abc-8bd5-c6c16621dda2",
   "metadata": {},
   "source": [
    "<h1 style=\"font-size: 24px; text-align: center;\"><b>EDA and Preprocessing<br>Machine Learning Assignment II<br>------------------------------------------------------------------------------------------------</b></h1>"
   ]
  },
  {
   "cell_type": "markdown",
   "id": "39d5ee26-345a-4ca6-b14a-2dbf5014c7b3",
   "metadata": {},
   "source": [
    "#### <font color='blue'>Objective:\n",
    "<p style=\"font-size: 18px;\">The main objective of this project is to design and implement a robust data preprocessing\n",
    "system that addresses common challenges such as missing values, outliers, inconsistent\n",
    "formatting, and noise. By performing effective data preprocessing, the project aims to enhance\n",
    "the quality, reliability, and usefulness of the data for machine learning.</p>"
   ]
  },
  {
   "cell_type": "code",
   "execution_count": 3,
   "id": "4210ae6e-be0b-4819-9f70-1e6ac8a38203",
   "metadata": {},
   "outputs": [],
   "source": [
    "import pandas as pd\n",
    "import numpy as np\n",
    "import matplotlib.pyplot as plt\n",
    "import seaborn as sns\n",
    "import warnings\n",
    "warnings.filterwarnings(\"ignore\")"
   ]
  },
  {
   "cell_type": "code",
   "execution_count": 4,
   "id": "4aff9d22-1a18-4585-b158-ed5172ed94b7",
   "metadata": {},
   "outputs": [
    {
     "data": {
      "text/html": [
       "<div>\n",
       "<style scoped>\n",
       "    .dataframe tbody tr th:only-of-type {\n",
       "        vertical-align: middle;\n",
       "    }\n",
       "\n",
       "    .dataframe tbody tr th {\n",
       "        vertical-align: top;\n",
       "    }\n",
       "\n",
       "    .dataframe thead th {\n",
       "        text-align: right;\n",
       "    }\n",
       "</style>\n",
       "<table border=\"1\" class=\"dataframe\">\n",
       "  <thead>\n",
       "    <tr style=\"text-align: right;\">\n",
       "      <th></th>\n",
       "      <th>Company</th>\n",
       "      <th>Age</th>\n",
       "      <th>Salary</th>\n",
       "      <th>Place</th>\n",
       "      <th>Country</th>\n",
       "      <th>Gender</th>\n",
       "    </tr>\n",
       "  </thead>\n",
       "  <tbody>\n",
       "    <tr>\n",
       "      <th>0</th>\n",
       "      <td>TCS</td>\n",
       "      <td>20.0</td>\n",
       "      <td>NaN</td>\n",
       "      <td>Chennai</td>\n",
       "      <td>India</td>\n",
       "      <td>0</td>\n",
       "    </tr>\n",
       "    <tr>\n",
       "      <th>1</th>\n",
       "      <td>Infosys</td>\n",
       "      <td>30.0</td>\n",
       "      <td>NaN</td>\n",
       "      <td>Mumbai</td>\n",
       "      <td>India</td>\n",
       "      <td>0</td>\n",
       "    </tr>\n",
       "    <tr>\n",
       "      <th>2</th>\n",
       "      <td>TCS</td>\n",
       "      <td>35.0</td>\n",
       "      <td>2300.0</td>\n",
       "      <td>Calcutta</td>\n",
       "      <td>India</td>\n",
       "      <td>0</td>\n",
       "    </tr>\n",
       "    <tr>\n",
       "      <th>3</th>\n",
       "      <td>Infosys</td>\n",
       "      <td>40.0</td>\n",
       "      <td>3000.0</td>\n",
       "      <td>Delhi</td>\n",
       "      <td>India</td>\n",
       "      <td>0</td>\n",
       "    </tr>\n",
       "    <tr>\n",
       "      <th>4</th>\n",
       "      <td>TCS</td>\n",
       "      <td>23.0</td>\n",
       "      <td>4000.0</td>\n",
       "      <td>Mumbai</td>\n",
       "      <td>India</td>\n",
       "      <td>0</td>\n",
       "    </tr>\n",
       "  </tbody>\n",
       "</table>\n",
       "</div>"
      ],
      "text/plain": [
       "   Company   Age  Salary     Place Country  Gender\n",
       "0      TCS  20.0     NaN   Chennai   India       0\n",
       "1  Infosys  30.0     NaN    Mumbai   India       0\n",
       "2      TCS  35.0  2300.0  Calcutta   India       0\n",
       "3  Infosys  40.0  3000.0     Delhi   India       0\n",
       "4      TCS  23.0  4000.0    Mumbai   India       0"
      ]
     },
     "execution_count": 4,
     "metadata": {},
     "output_type": "execute_result"
    }
   ],
   "source": [
    "df=pd.read_csv('Employee.csv')\n",
    "df.head()"
   ]
  },
  {
   "cell_type": "code",
   "execution_count": 5,
   "id": "89f91a3d-7672-473d-91ef-6a935756bc51",
   "metadata": {},
   "outputs": [
    {
     "name": "stdout",
     "output_type": "stream",
     "text": [
      "\n",
      "Feature properties of the dataset:\n",
      "\n",
      "<class 'pandas.core.frame.DataFrame'>\n",
      "RangeIndex: 148 entries, 0 to 147\n",
      "Data columns (total 6 columns):\n",
      " #   Column   Non-Null Count  Dtype  \n",
      "---  ------   --------------  -----  \n",
      " 0   Company  140 non-null    object \n",
      " 1   Age      130 non-null    float64\n",
      " 2   Salary   124 non-null    float64\n",
      " 3   Place    134 non-null    object \n",
      " 4   Country  148 non-null    object \n",
      " 5   Gender   148 non-null    int64  \n",
      "dtypes: float64(2), int64(1), object(3)\n",
      "memory usage: 7.1+ KB\n"
     ]
    }
   ],
   "source": [
    "print(f\"\\nFeature properties of the dataset:\\n\")\n",
    "df.info()"
   ]
  },
  {
   "cell_type": "code",
   "execution_count": 6,
   "id": "543de801-de84-4fb6-89be-7147a5bf0e2f",
   "metadata": {},
   "outputs": [
    {
     "data": {
      "text/plain": [
       "(148, 6)"
      ]
     },
     "execution_count": 6,
     "metadata": {},
     "output_type": "execute_result"
    }
   ],
   "source": [
    "df.shape"
   ]
  },
  {
   "cell_type": "code",
   "execution_count": 7,
   "id": "a7a9a55f-68c3-4799-8711-739a80473218",
   "metadata": {},
   "outputs": [],
   "source": [
    "dfc=df.copy()"
   ]
  },
  {
   "cell_type": "code",
   "execution_count": 8,
   "id": "32e3b9ba-bd77-429c-a96e-6aca1a58e50d",
   "metadata": {},
   "outputs": [],
   "source": [
    "# Encode Gender: Male = 1, Female = 0\n",
    "dfc['Gender'] = dfc['Gender'].apply(lambda x: 'Male' if x == 1 else 'Female')"
   ]
  },
  {
   "cell_type": "code",
   "execution_count": 9,
   "id": "a212817c-ee18-43eb-bda6-f3684cb2e8c2",
   "metadata": {},
   "outputs": [
    {
     "data": {
      "text/plain": [
       "Index(['Company', 'Age', 'Salary', 'Place', 'Country', 'Gender'], dtype='object')"
      ]
     },
     "execution_count": 9,
     "metadata": {},
     "output_type": "execute_result"
    }
   ],
   "source": [
    "dfc.columns"
   ]
  },
  {
   "cell_type": "code",
   "execution_count": 10,
   "id": "4eaa6ae6-e007-47f7-83a9-dcd0a72b558e",
   "metadata": {},
   "outputs": [
    {
     "data": {
      "text/html": [
       "<div>\n",
       "<style scoped>\n",
       "    .dataframe tbody tr th:only-of-type {\n",
       "        vertical-align: middle;\n",
       "    }\n",
       "\n",
       "    .dataframe tbody tr th {\n",
       "        vertical-align: top;\n",
       "    }\n",
       "\n",
       "    .dataframe thead th {\n",
       "        text-align: right;\n",
       "    }\n",
       "</style>\n",
       "<table border=\"1\" class=\"dataframe\">\n",
       "  <thead>\n",
       "    <tr style=\"text-align: right;\">\n",
       "      <th></th>\n",
       "      <th>Company</th>\n",
       "      <th>Age</th>\n",
       "      <th>Salary</th>\n",
       "      <th>Place</th>\n",
       "      <th>Country</th>\n",
       "      <th>Gender</th>\n",
       "    </tr>\n",
       "  </thead>\n",
       "  <tbody>\n",
       "    <tr>\n",
       "      <th>0</th>\n",
       "      <td>TCS</td>\n",
       "      <td>20.0</td>\n",
       "      <td>NaN</td>\n",
       "      <td>Chennai</td>\n",
       "      <td>India</td>\n",
       "      <td>Female</td>\n",
       "    </tr>\n",
       "    <tr>\n",
       "      <th>1</th>\n",
       "      <td>Infosys</td>\n",
       "      <td>30.0</td>\n",
       "      <td>NaN</td>\n",
       "      <td>Mumbai</td>\n",
       "      <td>India</td>\n",
       "      <td>Female</td>\n",
       "    </tr>\n",
       "    <tr>\n",
       "      <th>2</th>\n",
       "      <td>TCS</td>\n",
       "      <td>35.0</td>\n",
       "      <td>2300.0</td>\n",
       "      <td>Calcutta</td>\n",
       "      <td>India</td>\n",
       "      <td>Female</td>\n",
       "    </tr>\n",
       "    <tr>\n",
       "      <th>3</th>\n",
       "      <td>Infosys</td>\n",
       "      <td>40.0</td>\n",
       "      <td>3000.0</td>\n",
       "      <td>Delhi</td>\n",
       "      <td>India</td>\n",
       "      <td>Female</td>\n",
       "    </tr>\n",
       "    <tr>\n",
       "      <th>4</th>\n",
       "      <td>TCS</td>\n",
       "      <td>23.0</td>\n",
       "      <td>4000.0</td>\n",
       "      <td>Mumbai</td>\n",
       "      <td>India</td>\n",
       "      <td>Female</td>\n",
       "    </tr>\n",
       "  </tbody>\n",
       "</table>\n",
       "</div>"
      ],
      "text/plain": [
       "   Company   Age  Salary     Place Country  Gender\n",
       "0      TCS  20.0     NaN   Chennai   India  Female\n",
       "1  Infosys  30.0     NaN    Mumbai   India  Female\n",
       "2      TCS  35.0  2300.0  Calcutta   India  Female\n",
       "3  Infosys  40.0  3000.0     Delhi   India  Female\n",
       "4      TCS  23.0  4000.0    Mumbai   India  Female"
      ]
     },
     "execution_count": 10,
     "metadata": {},
     "output_type": "execute_result"
    }
   ],
   "source": [
    "dfc.head()"
   ]
  },
  {
   "cell_type": "code",
   "execution_count": 11,
   "id": "9d913304-486d-4e8a-91f3-d4ff12ba50df",
   "metadata": {},
   "outputs": [
    {
     "data": {
      "text/html": [
       "<div>\n",
       "<style scoped>\n",
       "    .dataframe tbody tr th:only-of-type {\n",
       "        vertical-align: middle;\n",
       "    }\n",
       "\n",
       "    .dataframe tbody tr th {\n",
       "        vertical-align: top;\n",
       "    }\n",
       "\n",
       "    .dataframe thead th {\n",
       "        text-align: right;\n",
       "    }\n",
       "</style>\n",
       "<table border=\"1\" class=\"dataframe\">\n",
       "  <thead>\n",
       "    <tr style=\"text-align: right;\">\n",
       "      <th></th>\n",
       "      <th>Age</th>\n",
       "      <th>Salary</th>\n",
       "    </tr>\n",
       "  </thead>\n",
       "  <tbody>\n",
       "    <tr>\n",
       "      <th>count</th>\n",
       "      <td>130.000000</td>\n",
       "      <td>124.000000</td>\n",
       "    </tr>\n",
       "    <tr>\n",
       "      <th>mean</th>\n",
       "      <td>30.484615</td>\n",
       "      <td>5312.467742</td>\n",
       "    </tr>\n",
       "    <tr>\n",
       "      <th>std</th>\n",
       "      <td>11.096640</td>\n",
       "      <td>2573.764683</td>\n",
       "    </tr>\n",
       "    <tr>\n",
       "      <th>min</th>\n",
       "      <td>0.000000</td>\n",
       "      <td>1089.000000</td>\n",
       "    </tr>\n",
       "    <tr>\n",
       "      <th>25%</th>\n",
       "      <td>22.000000</td>\n",
       "      <td>3030.000000</td>\n",
       "    </tr>\n",
       "    <tr>\n",
       "      <th>50%</th>\n",
       "      <td>32.500000</td>\n",
       "      <td>5000.000000</td>\n",
       "    </tr>\n",
       "    <tr>\n",
       "      <th>75%</th>\n",
       "      <td>37.750000</td>\n",
       "      <td>8000.000000</td>\n",
       "    </tr>\n",
       "    <tr>\n",
       "      <th>max</th>\n",
       "      <td>54.000000</td>\n",
       "      <td>9876.000000</td>\n",
       "    </tr>\n",
       "  </tbody>\n",
       "</table>\n",
       "</div>"
      ],
      "text/plain": [
       "              Age       Salary\n",
       "count  130.000000   124.000000\n",
       "mean    30.484615  5312.467742\n",
       "std     11.096640  2573.764683\n",
       "min      0.000000  1089.000000\n",
       "25%     22.000000  3030.000000\n",
       "50%     32.500000  5000.000000\n",
       "75%     37.750000  8000.000000\n",
       "max     54.000000  9876.000000"
      ]
     },
     "execution_count": 11,
     "metadata": {},
     "output_type": "execute_result"
    }
   ],
   "source": [
    "dfc.describe()"
   ]
  },
  {
   "cell_type": "markdown",
   "id": "263ae3a4-3cf4-48a0-86b9-93e5801fea6e",
   "metadata": {},
   "source": [
    "### Data Exploration: (Score : 2)\n",
    "<p style=\"font-size: 18px;\"> Explore the data, list down the unique values in each feature and find its length.\n",
    "Perform the statistical analysis and renaming of the columns.</p>"
   ]
  },
  {
   "cell_type": "code",
   "execution_count": 13,
   "id": "1ac5f0fb-7fae-43ca-b272-59f9857a93d9",
   "metadata": {},
   "outputs": [],
   "source": [
    "# 1. Unique values and their counts\n",
    "unique_values = {\n",
    "    col: {\"unique\": df[col].unique().tolist(), \"count\": len(df[col].unique())} for col in df.columns\n",
    "}"
   ]
  },
  {
   "cell_type": "code",
   "execution_count": 14,
   "id": "a754b998-c7f4-4ae7-af1b-52b73054f6b6",
   "metadata": {},
   "outputs": [
    {
     "name": "stdout",
     "output_type": "stream",
     "text": [
      "Unique Values and Counts:\n",
      " {'Company': {'unique': ['TCS', 'Infosys', 'CTS', nan, 'Tata Consultancy Services', 'Congnizant', 'Infosys Pvt Lmt'], 'count': 7}, 'Age': {'unique': [20.0, 30.0, 35.0, 40.0, 23.0, nan, 34.0, 45.0, 18.0, 22.0, 32.0, 37.0, 50.0, 21.0, 46.0, 36.0, 26.0, 41.0, 24.0, 25.0, 43.0, 19.0, 38.0, 51.0, 31.0, 44.0, 33.0, 17.0, 0.0, 54.0], 'count': 30}, 'Salary': {'unique': [nan, 2300.0, 3000.0, 4000.0, 5000.0, 6000.0, 7000.0, 8000.0, 9000.0, 1089.0, 1234.0, 3030.0, 3045.0, 3184.0, 4824.0, 5835.0, 7084.0, 8943.0, 8345.0, 9284.0, 9876.0, 2034.0, 7654.0, 2934.0, 4034.0, 5034.0, 8202.0, 9024.0, 4345.0, 6544.0, 6543.0, 3234.0, 4324.0, 5435.0, 5555.0, 8787.0, 3454.0, 5654.0, 5009.0, 5098.0, 3033.0], 'count': 41}, 'Place': {'unique': ['Chennai', 'Mumbai', 'Calcutta', 'Delhi', 'Podicherry', 'Cochin', nan, 'Noida', 'Hyderabad', 'Bhopal', 'Nagpur', 'Pune'], 'count': 12}, 'Country': {'unique': ['India'], 'count': 1}, 'Gender': {'unique': [0, 1], 'count': 2}}\n"
     ]
    }
   ],
   "source": [
    "print(\"Unique Values and Counts:\\n\", unique_values)"
   ]
  },
  {
   "cell_type": "code",
   "execution_count": 15,
   "id": "fbb5bcbb-3b86-4400-81b1-bc957c70210c",
   "metadata": {},
   "outputs": [
    {
     "name": "stdout",
     "output_type": "stream",
     "text": [
      "Feature: Company\n",
      "Unique Values: ['TCS' 'Infosys' 'CTS' nan 'Tata Consultancy Services' 'Congnizant'\n",
      " 'Infosys Pvt Lmt']\n",
      "Count: 7\n",
      "\n",
      "Feature: Age\n",
      "Unique Values: [20. 30. 35. 40. 23. nan 34. 45. 18. 22. 32. 37. 50. 21. 46. 36. 26. 41.\n",
      " 24. 25. 43. 19. 38. 51. 31. 44. 33. 17.  0. 54.]\n",
      "Count: 30\n",
      "\n",
      "Feature: Salary\n",
      "Unique Values: [  nan 2300. 3000. 4000. 5000. 6000. 7000. 8000. 9000. 1089. 1234. 3030.\n",
      " 3045. 3184. 4824. 5835. 7084. 8943. 8345. 9284. 9876. 2034. 7654. 2934.\n",
      " 4034. 5034. 8202. 9024. 4345. 6544. 6543. 3234. 4324. 5435. 5555. 8787.\n",
      " 3454. 5654. 5009. 5098. 3033.]\n",
      "Count: 41\n",
      "\n",
      "Feature: Place\n",
      "Unique Values: ['Chennai' 'Mumbai' 'Calcutta' 'Delhi' 'Podicherry' 'Cochin' nan 'Noida'\n",
      " 'Hyderabad' 'Bhopal' 'Nagpur' 'Pune']\n",
      "Count: 12\n",
      "\n",
      "Feature: Country\n",
      "Unique Values: ['India']\n",
      "Count: 1\n",
      "\n",
      "Feature: Gender\n",
      "Unique Values: [0 1]\n",
      "Count: 2\n",
      "\n"
     ]
    }
   ],
   "source": [
    "# Display unique values and their lengths for each feature\n",
    "for col in df.columns:\n",
    "    unique_vals = df[col].unique()\n",
    "    print(f\"Feature: {col}\\nUnique Values: {unique_vals}\\nCount: {len(unique_vals)}\\n\")"
   ]
  },
  {
   "cell_type": "markdown",
   "id": "a1dc2e85-ae2c-4677-a2c0-9a485de71c6d",
   "metadata": {},
   "source": [
    "##### statistical analysis"
   ]
  },
  {
   "cell_type": "code",
   "execution_count": 17,
   "id": "0a87232f-40e6-45fe-8baf-c0dc8519d6bc",
   "metadata": {},
   "outputs": [
    {
     "name": "stdout",
     "output_type": "stream",
     "text": [
      "\n",
      "Statistical Analysis (Numeric Columns):\n",
      "               Age       Salary      Gender\n",
      "count  130.000000   124.000000  148.000000\n",
      "mean    30.484615  5312.467742    0.222973\n",
      "std     11.096640  2573.764683    0.417654\n",
      "min      0.000000  1089.000000    0.000000\n",
      "25%     22.000000  3030.000000    0.000000\n",
      "50%     32.500000  5000.000000    0.000000\n",
      "75%     37.750000  8000.000000    0.000000\n",
      "max     54.000000  9876.000000    1.000000\n"
     ]
    }
   ],
   "source": [
    "print(\"\\nStatistical Analysis (Numeric Columns):\\n\", df.describe())"
   ]
  },
  {
   "cell_type": "code",
   "execution_count": 18,
   "id": "4b0142f9-96c1-4bb7-ac7d-1028102b127b",
   "metadata": {},
   "outputs": [
    {
     "data": {
      "text/html": [
       "<div>\n",
       "<style scoped>\n",
       "    .dataframe tbody tr th:only-of-type {\n",
       "        vertical-align: middle;\n",
       "    }\n",
       "\n",
       "    .dataframe tbody tr th {\n",
       "        vertical-align: top;\n",
       "    }\n",
       "\n",
       "    .dataframe thead th {\n",
       "        text-align: right;\n",
       "    }\n",
       "</style>\n",
       "<table border=\"1\" class=\"dataframe\">\n",
       "  <thead>\n",
       "    <tr style=\"text-align: right;\">\n",
       "      <th></th>\n",
       "      <th>Company</th>\n",
       "      <th>Age</th>\n",
       "      <th>Salary</th>\n",
       "      <th>Place</th>\n",
       "      <th>Country</th>\n",
       "      <th>Gender</th>\n",
       "    </tr>\n",
       "  </thead>\n",
       "  <tbody>\n",
       "    <tr>\n",
       "      <th>0</th>\n",
       "      <td>TCS</td>\n",
       "      <td>20.0</td>\n",
       "      <td>NaN</td>\n",
       "      <td>Chennai</td>\n",
       "      <td>India</td>\n",
       "      <td>Female</td>\n",
       "    </tr>\n",
       "    <tr>\n",
       "      <th>1</th>\n",
       "      <td>Infosys</td>\n",
       "      <td>30.0</td>\n",
       "      <td>NaN</td>\n",
       "      <td>Mumbai</td>\n",
       "      <td>India</td>\n",
       "      <td>Female</td>\n",
       "    </tr>\n",
       "  </tbody>\n",
       "</table>\n",
       "</div>"
      ],
      "text/plain": [
       "   Company   Age  Salary    Place Country  Gender\n",
       "0      TCS  20.0     NaN  Chennai   India  Female\n",
       "1  Infosys  30.0     NaN   Mumbai   India  Female"
      ]
     },
     "execution_count": 18,
     "metadata": {},
     "output_type": "execute_result"
    }
   ],
   "source": [
    "dfc.head(2)"
   ]
  },
  {
   "cell_type": "markdown",
   "id": "e90e4300-4d69-4537-9dd3-57e5914a7fd9",
   "metadata": {},
   "source": [
    "##### Rename the columns : Here all the names are capitalising and changing 'Place' to 'City' "
   ]
  },
  {
   "cell_type": "code",
   "execution_count": 20,
   "id": "578b3d11-76f6-472e-af7d-c5b41594b990",
   "metadata": {},
   "outputs": [],
   "source": [
    "dfc.columns = dfc.columns.str.upper()"
   ]
  },
  {
   "cell_type": "code",
   "execution_count": 21,
   "id": "48afbf26-f13d-4246-acbb-ca7b7c74ba33",
   "metadata": {},
   "outputs": [
    {
     "data": {
      "text/html": [
       "<div>\n",
       "<style scoped>\n",
       "    .dataframe tbody tr th:only-of-type {\n",
       "        vertical-align: middle;\n",
       "    }\n",
       "\n",
       "    .dataframe tbody tr th {\n",
       "        vertical-align: top;\n",
       "    }\n",
       "\n",
       "    .dataframe thead th {\n",
       "        text-align: right;\n",
       "    }\n",
       "</style>\n",
       "<table border=\"1\" class=\"dataframe\">\n",
       "  <thead>\n",
       "    <tr style=\"text-align: right;\">\n",
       "      <th></th>\n",
       "      <th>COMPANY</th>\n",
       "      <th>AGE</th>\n",
       "      <th>SALARY</th>\n",
       "      <th>PLACE</th>\n",
       "      <th>COUNTRY</th>\n",
       "      <th>GENDER</th>\n",
       "    </tr>\n",
       "  </thead>\n",
       "  <tbody>\n",
       "    <tr>\n",
       "      <th>0</th>\n",
       "      <td>TCS</td>\n",
       "      <td>20.0</td>\n",
       "      <td>NaN</td>\n",
       "      <td>Chennai</td>\n",
       "      <td>India</td>\n",
       "      <td>Female</td>\n",
       "    </tr>\n",
       "    <tr>\n",
       "      <th>1</th>\n",
       "      <td>Infosys</td>\n",
       "      <td>30.0</td>\n",
       "      <td>NaN</td>\n",
       "      <td>Mumbai</td>\n",
       "      <td>India</td>\n",
       "      <td>Female</td>\n",
       "    </tr>\n",
       "    <tr>\n",
       "      <th>2</th>\n",
       "      <td>TCS</td>\n",
       "      <td>35.0</td>\n",
       "      <td>2300.0</td>\n",
       "      <td>Calcutta</td>\n",
       "      <td>India</td>\n",
       "      <td>Female</td>\n",
       "    </tr>\n",
       "    <tr>\n",
       "      <th>3</th>\n",
       "      <td>Infosys</td>\n",
       "      <td>40.0</td>\n",
       "      <td>3000.0</td>\n",
       "      <td>Delhi</td>\n",
       "      <td>India</td>\n",
       "      <td>Female</td>\n",
       "    </tr>\n",
       "    <tr>\n",
       "      <th>4</th>\n",
       "      <td>TCS</td>\n",
       "      <td>23.0</td>\n",
       "      <td>4000.0</td>\n",
       "      <td>Mumbai</td>\n",
       "      <td>India</td>\n",
       "      <td>Female</td>\n",
       "    </tr>\n",
       "  </tbody>\n",
       "</table>\n",
       "</div>"
      ],
      "text/plain": [
       "   COMPANY   AGE  SALARY     PLACE COUNTRY  GENDER\n",
       "0      TCS  20.0     NaN   Chennai   India  Female\n",
       "1  Infosys  30.0     NaN    Mumbai   India  Female\n",
       "2      TCS  35.0  2300.0  Calcutta   India  Female\n",
       "3  Infosys  40.0  3000.0     Delhi   India  Female\n",
       "4      TCS  23.0  4000.0    Mumbai   India  Female"
      ]
     },
     "execution_count": 21,
     "metadata": {},
     "output_type": "execute_result"
    }
   ],
   "source": [
    "dfc.head()"
   ]
  },
  {
   "cell_type": "code",
   "execution_count": 22,
   "id": "318b450d-6212-4d96-93a0-c505c3fbcce6",
   "metadata": {},
   "outputs": [
    {
     "data": {
      "text/html": [
       "<div>\n",
       "<style scoped>\n",
       "    .dataframe tbody tr th:only-of-type {\n",
       "        vertical-align: middle;\n",
       "    }\n",
       "\n",
       "    .dataframe tbody tr th {\n",
       "        vertical-align: top;\n",
       "    }\n",
       "\n",
       "    .dataframe thead th {\n",
       "        text-align: right;\n",
       "    }\n",
       "</style>\n",
       "<table border=\"1\" class=\"dataframe\">\n",
       "  <thead>\n",
       "    <tr style=\"text-align: right;\">\n",
       "      <th></th>\n",
       "      <th>COMPANY</th>\n",
       "      <th>AGE</th>\n",
       "      <th>SALARY</th>\n",
       "      <th>CITY</th>\n",
       "      <th>COUNTRY</th>\n",
       "      <th>GENDER</th>\n",
       "    </tr>\n",
       "  </thead>\n",
       "  <tbody>\n",
       "    <tr>\n",
       "      <th>0</th>\n",
       "      <td>TCS</td>\n",
       "      <td>20.0</td>\n",
       "      <td>NaN</td>\n",
       "      <td>Chennai</td>\n",
       "      <td>India</td>\n",
       "      <td>Female</td>\n",
       "    </tr>\n",
       "    <tr>\n",
       "      <th>1</th>\n",
       "      <td>Infosys</td>\n",
       "      <td>30.0</td>\n",
       "      <td>NaN</td>\n",
       "      <td>Mumbai</td>\n",
       "      <td>India</td>\n",
       "      <td>Female</td>\n",
       "    </tr>\n",
       "    <tr>\n",
       "      <th>2</th>\n",
       "      <td>TCS</td>\n",
       "      <td>35.0</td>\n",
       "      <td>2300.0</td>\n",
       "      <td>Calcutta</td>\n",
       "      <td>India</td>\n",
       "      <td>Female</td>\n",
       "    </tr>\n",
       "    <tr>\n",
       "      <th>3</th>\n",
       "      <td>Infosys</td>\n",
       "      <td>40.0</td>\n",
       "      <td>3000.0</td>\n",
       "      <td>Delhi</td>\n",
       "      <td>India</td>\n",
       "      <td>Female</td>\n",
       "    </tr>\n",
       "    <tr>\n",
       "      <th>4</th>\n",
       "      <td>TCS</td>\n",
       "      <td>23.0</td>\n",
       "      <td>4000.0</td>\n",
       "      <td>Mumbai</td>\n",
       "      <td>India</td>\n",
       "      <td>Female</td>\n",
       "    </tr>\n",
       "  </tbody>\n",
       "</table>\n",
       "</div>"
      ],
      "text/plain": [
       "   COMPANY   AGE  SALARY      CITY COUNTRY  GENDER\n",
       "0      TCS  20.0     NaN   Chennai   India  Female\n",
       "1  Infosys  30.0     NaN    Mumbai   India  Female\n",
       "2      TCS  35.0  2300.0  Calcutta   India  Female\n",
       "3  Infosys  40.0  3000.0     Delhi   India  Female\n",
       "4      TCS  23.0  4000.0    Mumbai   India  Female"
      ]
     },
     "execution_count": 22,
     "metadata": {},
     "output_type": "execute_result"
    }
   ],
   "source": [
    "#Changing the \"Place\" to \"City\"\n",
    "dfc.rename(columns={'PLACE':'CITY'},inplace=True)\n",
    "dfc.head()"
   ]
  },
  {
   "cell_type": "markdown",
   "id": "b0e77f07-be29-4afb-aab4-a591ea8aaca5",
   "metadata": {},
   "source": [
    "### Data Cleaning: (Score : 2)"
   ]
  },
  {
   "cell_type": "markdown",
   "id": "78bf6085-bded-43f1-b800-96315565f423",
   "metadata": {},
   "source": [
    "### Find the missing and inappropriate values, treat them appropriately"
   ]
  },
  {
   "cell_type": "code",
   "execution_count": 25,
   "id": "ebabe363-d463-4e35-92dc-d620e8010241",
   "metadata": {},
   "outputs": [
    {
     "data": {
      "text/plain": [
       "COMPANY     8\n",
       "AGE        18\n",
       "SALARY     24\n",
       "CITY       14\n",
       "COUNTRY     0\n",
       "GENDER      0\n",
       "dtype: int64"
      ]
     },
     "execution_count": 25,
     "metadata": {},
     "output_type": "execute_result"
    }
   ],
   "source": [
    "dfc.isnull().sum()"
   ]
  },
  {
   "cell_type": "markdown",
   "id": "96786d56-e905-4e33-a35e-5100753ae444",
   "metadata": {},
   "source": [
    "#### <font color='green'>Treating the missing values in Company with mode value "
   ]
  },
  {
   "cell_type": "code",
   "execution_count": 27,
   "id": "30c4f2ba-d450-4b4b-aea1-912e75fa2760",
   "metadata": {},
   "outputs": [
    {
     "data": {
      "text/plain": [
       "0"
      ]
     },
     "execution_count": 27,
     "metadata": {},
     "output_type": "execute_result"
    }
   ],
   "source": [
    "#Imputation method\n",
    "dfc['COMPANY'].fillna(dfc['COMPANY'].mode()[0],inplace=True)\n",
    "dfc['COMPANY'].isnull().sum()"
   ]
  },
  {
   "cell_type": "markdown",
   "id": "175da235-3cd6-41a6-ac2e-693bcff67948",
   "metadata": {},
   "source": [
    "#### <font color='green'>Treating the missing values in City with mode value "
   ]
  },
  {
   "cell_type": "code",
   "execution_count": 29,
   "id": "5f46f915-b43e-4705-a125-7217fe783bb5",
   "metadata": {},
   "outputs": [
    {
     "data": {
      "text/plain": [
       "0"
      ]
     },
     "execution_count": 29,
     "metadata": {},
     "output_type": "execute_result"
    }
   ],
   "source": [
    "#Imputation method\n",
    "dfc['CITY'].fillna(dfc['CITY'].mode()[0],inplace=True)\n",
    "dfc['CITY'].isnull().sum()"
   ]
  },
  {
   "cell_type": "markdown",
   "id": "d1d86979-e305-46ef-b7ba-51671596cf77",
   "metadata": {},
   "source": [
    "#### <font color='green'>Treating the missing values in AGE with mode value "
   ]
  },
  {
   "cell_type": "code",
   "execution_count": 31,
   "id": "d9d42cbb-f1c2-446b-b006-6511b7c8c622",
   "metadata": {},
   "outputs": [
    {
     "data": {
      "text/plain": [
       "0"
      ]
     },
     "execution_count": 31,
     "metadata": {},
     "output_type": "execute_result"
    }
   ],
   "source": [
    "#Imputation method\n",
    "dfc['AGE'].fillna(dfc['AGE'].mode()[0],inplace=True)\n",
    "dfc['AGE'].isnull().sum()"
   ]
  },
  {
   "cell_type": "markdown",
   "id": "c77ed07b-068d-409e-a711-1d6ee4cb97ee",
   "metadata": {},
   "source": [
    "#### <font color='green'>Treating the missing values in SALARY with median value ."
   ]
  },
  {
   "cell_type": "code",
   "execution_count": 33,
   "id": "37dedbb3-7b59-48b7-b8f1-5839cc070018",
   "metadata": {},
   "outputs": [
    {
     "data": {
      "text/plain": [
       "0"
      ]
     },
     "execution_count": 33,
     "metadata": {},
     "output_type": "execute_result"
    }
   ],
   "source": [
    "#Imputation method\n",
    "dfc['SALARY'].fillna(dfc['SALARY'].mean(),inplace=True)\n",
    "dfc['SALARY'].isnull().sum()"
   ]
  },
  {
   "cell_type": "markdown",
   "id": "899fb082-16ea-4a0d-8472-f81d4ff8cb99",
   "metadata": {},
   "source": [
    "### Remove all duplicate rows."
   ]
  },
  {
   "cell_type": "code",
   "execution_count": 35,
   "id": "80fca2dc-b310-4934-8fcf-9e426a400e66",
   "metadata": {},
   "outputs": [
    {
     "data": {
      "text/plain": [
       "4"
      ]
     },
     "execution_count": 35,
     "metadata": {},
     "output_type": "execute_result"
    }
   ],
   "source": [
    "dfc.duplicated().sum()"
   ]
  },
  {
   "cell_type": "code",
   "execution_count": 36,
   "id": "36a9bc45-3c6b-4e88-b0f8-52302166fbe4",
   "metadata": {},
   "outputs": [],
   "source": [
    "dfc.drop_duplicates(inplace=True)"
   ]
  },
  {
   "cell_type": "code",
   "execution_count": 37,
   "id": "20d4638c-1bf9-4aba-8e4a-8de30f7e3801",
   "metadata": {},
   "outputs": [
    {
     "data": {
      "text/plain": [
       "0"
      ]
     },
     "execution_count": 37,
     "metadata": {},
     "output_type": "execute_result"
    }
   ],
   "source": [
    "dfc.duplicated().sum()"
   ]
  },
  {
   "cell_type": "markdown",
   "id": "43cd7ee6-67c8-4794-b4aa-2bfbf5b3e12d",
   "metadata": {},
   "source": [
    "### Find the outliers."
   ]
  },
  {
   "cell_type": "markdown",
   "id": "8e4fafb1-d156-45a4-aea0-96f79baa9438",
   "metadata": {},
   "source": [
    "Finding outliers using plotting a box plot"
   ]
  },
  {
   "cell_type": "code",
   "execution_count": 40,
   "id": "c2502e69-ac56-4a3b-8b0f-a03cfb30e0e8",
   "metadata": {},
   "outputs": [
    {
     "data": {
      "image/png": "[encoded data removed]",
      "text/plain": [
       "<Figure size 500x500 with 1 Axes>"
      ]
     },
     "metadata": {},
     "output_type": "display_data"
    }
   ],
   "source": [
    "plt.figure(figsize=(5,5))\n",
    "sns.boxplot(y=dfc['AGE'],color='orange')\n",
    "plt.title('Boxplot of AGE')\n",
    "plt.ylabel('AGE')\n",
    "plt.show()"
   ]
  },
  {
   "cell_type": "code",
   "execution_count": 41,
   "id": "cdcecce6-a50f-4d3a-a9bc-dd0ea0cb946b",
   "metadata": {},
   "outputs": [
    {
     "data": {
      "image/png": "[encoded data removed]",
      "text/plain": [
       "<Figure size 500x500 with 1 Axes>"
      ]
     },
     "metadata": {},
     "output_type": "display_data"
    }
   ],
   "source": [
    "plt.figure(figsize=(5,5))\n",
    "sns.boxplot(y=dfc['SALARY'],color='orange')\n",
    "plt.title('Boxplot of SALARY')\n",
    "plt.ylabel('SALARY')\n",
    "plt.show()"
   ]
  },
  {
   "cell_type": "markdown",
   "id": "ea98de59-6d52-440f-8652-4cae6459e5d9",
   "metadata": {},
   "source": [
    "#### <font color='green'> Using IQR method, finding the outlier "
   ]
  },
  {
   "cell_type": "code",
   "execution_count": 43,
   "id": "4f7857bf-475c-4f9a-80f8-ead9567dc309",
   "metadata": {},
   "outputs": [
    {
     "name": "stdout",
     "output_type": "stream",
     "text": [
      "Lower Limit: 1.0, Upper Limit: 57.0\n"
     ]
    }
   ],
   "source": [
    "# Calculate Q1 (25th percentile) and Q3 (75th percentile)\n",
    "q1=dfc['AGE'].quantile(0.25)\n",
    "q3=dfc['AGE'].quantile(0.75)\n",
    "iqr=q3-q1\n",
    "lower_lim=q1-iqr*1.5\n",
    "upper_lim=q3+iqr*1.5\n",
    "\n",
    "print(f\"Lower Limit: {lower_lim}, Upper Limit: {upper_lim}\")"
   ]
  },
  {
   "cell_type": "code",
   "execution_count": 44,
   "id": "713c6d18-44e1-48b1-a687-3c37782f2a05",
   "metadata": {},
   "outputs": [
    {
     "name": "stdout",
     "output_type": "stream",
     "text": [
      "Number of outliers detected: 6\n"
     ]
    }
   ],
   "source": [
    "#Detecting outliers\n",
    "outliers = dfc[(dfc['AGE'] < lower_lim) | (dfc['AGE'] > upper_lim)]\n",
    "print(f\"Number of outliers detected: {len(outliers)}\")"
   ]
  },
  {
   "cell_type": "code",
   "execution_count": 45,
   "id": "dc0fbf3f-2399-4ef4-a26c-6d3e3a04ddc2",
   "metadata": {},
   "outputs": [
    {
     "name": "stdout",
     "output_type": "stream",
     "text": [
      "Dataset after trimming: (138, 6)\n"
     ]
    }
   ],
   "source": [
    "#Trimming method for removing outliers\n",
    "dfc_cleaned=dfc[(dfc['AGE']>lower_lim) & (dfc['AGE']<upper_lim)]\n",
    "print(f\"Dataset after trimming: {dfc_cleaned.shape}\")"
   ]
  },
  {
   "cell_type": "code",
   "execution_count": 46,
   "id": "8e66d8d1-5aa3-48e6-97b0-050defffe31c",
   "metadata": {},
   "outputs": [
    {
     "name": "stdout",
     "output_type": "stream",
     "text": [
      "Number of outliers detected: 0\n"
     ]
    }
   ],
   "source": [
    "#Detecting outliers\n",
    "outliers = dfc_cleaned[(dfc_cleaned['AGE'] < lower_lim) | (dfc_cleaned['AGE'] > upper_lim)]\n",
    "print(f\"Number of outliers detected: {len(outliers)}\")"
   ]
  },
  {
   "cell_type": "markdown",
   "id": "4eeedbda-9c8d-4a19-8ba7-a559edc12ad1",
   "metadata": {},
   "source": [
    "#### <font color='green'> Outliers in AGE is cleaned and saved as dfc_cleaned"
   ]
  },
  {
   "cell_type": "code",
   "execution_count": 48,
   "id": "0d279fae-5573-4691-9f07-8ae13791c132",
   "metadata": {},
   "outputs": [
    {
     "name": "stdout",
     "output_type": "stream",
     "text": [
      "Lower Limit: -3013.5, Upper Limit: 13142.5\n"
     ]
    }
   ],
   "source": [
    "# Calculate Q1 (25th percentile) and Q3 (75th percentile)\n",
    "q1=dfc['SALARY'].quantile(0.25)\n",
    "q3=dfc['SALARY'].quantile(0.75)\n",
    "iqr=q3-q1\n",
    "low_lim=q1-iqr*1.5\n",
    "up_lim=q3+iqr*1.5\n",
    "\n",
    "print(f\"Lower Limit: {low_lim}, Upper Limit: {up_lim}\")"
   ]
  },
  {
   "cell_type": "code",
   "execution_count": 49,
   "id": "9291bfb6-45e9-41e9-85e1-19fd24b79a6d",
   "metadata": {},
   "outputs": [
    {
     "name": "stdout",
     "output_type": "stream",
     "text": [
      "Number of outliers detected: 0\n"
     ]
    }
   ],
   "source": [
    "#Detecting outliers\n",
    "outliers = dfc[(dfc['SALARY'] < low_lim) | (dfc['SALARY'] > up_lim)]\n",
    "print(f\"Number of outliers detected: {len(outliers)}\")"
   ]
  },
  {
   "cell_type": "markdown",
   "id": "1eabf4f2-10fe-4ab0-b391-30806878277c",
   "metadata": {},
   "source": [
    "#### <font color='green'> There is no outlier for SALARY Column"
   ]
  },
  {
   "cell_type": "markdown",
   "id": "c09e8df3-dc06-40c3-bcb8-5e672237a27e",
   "metadata": {},
   "source": [
    "#### Replace the value 0 in age as NaN\n"
   ]
  },
  {
   "cell_type": "code",
   "execution_count": 52,
   "id": "cc0429c8-1b01-4615-935c-7d57553afa93",
   "metadata": {},
   "outputs": [],
   "source": [
    "# Replace 0 with NaN in the 'Age' column\n",
    "dfc['AGE'] = dfc['AGE'].replace(0, np.nan)"
   ]
  },
  {
   "cell_type": "markdown",
   "id": "67a9f914-49fb-4a2f-bf7c-5aa8691eb072",
   "metadata": {},
   "source": [
    "## Data Analysis: (Score : 2)"
   ]
  },
  {
   "cell_type": "markdown",
   "id": "bec92063-b610-44ea-8862-e39ce6fcb953",
   "metadata": {},
   "source": [
    "#### Filter the data with age >40 and salary<5000"
   ]
  },
  {
   "cell_type": "code",
   "execution_count": 55,
   "id": "95802c69-22b5-4d09-bb14-7917541e0d33",
   "metadata": {},
   "outputs": [
    {
     "name": "stdout",
     "output_type": "stream",
     "text": [
      "Filtered data : \n",
      "\n"
     ]
    },
    {
     "data": {
      "text/html": [
       "<div>\n",
       "<style scoped>\n",
       "    .dataframe tbody tr th:only-of-type {\n",
       "        vertical-align: middle;\n",
       "    }\n",
       "\n",
       "    .dataframe tbody tr th {\n",
       "        vertical-align: top;\n",
       "    }\n",
       "\n",
       "    .dataframe thead th {\n",
       "        text-align: right;\n",
       "    }\n",
       "</style>\n",
       "<table border=\"1\" class=\"dataframe\">\n",
       "  <thead>\n",
       "    <tr style=\"text-align: right;\">\n",
       "      <th></th>\n",
       "      <th>COMPANY</th>\n",
       "      <th>AGE</th>\n",
       "      <th>SALARY</th>\n",
       "      <th>CITY</th>\n",
       "      <th>COUNTRY</th>\n",
       "      <th>GENDER</th>\n",
       "    </tr>\n",
       "  </thead>\n",
       "  <tbody>\n",
       "    <tr>\n",
       "      <th>21</th>\n",
       "      <td>Infosys</td>\n",
       "      <td>50.0</td>\n",
       "      <td>3184.0</td>\n",
       "      <td>Delhi</td>\n",
       "      <td>India</td>\n",
       "      <td>Female</td>\n",
       "    </tr>\n",
       "    <tr>\n",
       "      <th>32</th>\n",
       "      <td>Infosys</td>\n",
       "      <td>45.0</td>\n",
       "      <td>4034.0</td>\n",
       "      <td>Calcutta</td>\n",
       "      <td>India</td>\n",
       "      <td>Female</td>\n",
       "    </tr>\n",
       "    <tr>\n",
       "      <th>39</th>\n",
       "      <td>Infosys</td>\n",
       "      <td>41.0</td>\n",
       "      <td>3000.0</td>\n",
       "      <td>Mumbai</td>\n",
       "      <td>India</td>\n",
       "      <td>Female</td>\n",
       "    </tr>\n",
       "    <tr>\n",
       "      <th>50</th>\n",
       "      <td>Infosys</td>\n",
       "      <td>41.0</td>\n",
       "      <td>3000.0</td>\n",
       "      <td>Chennai</td>\n",
       "      <td>India</td>\n",
       "      <td>Female</td>\n",
       "    </tr>\n",
       "    <tr>\n",
       "      <th>57</th>\n",
       "      <td>Infosys</td>\n",
       "      <td>51.0</td>\n",
       "      <td>3184.0</td>\n",
       "      <td>Hyderabad</td>\n",
       "      <td>India</td>\n",
       "      <td>Female</td>\n",
       "    </tr>\n",
       "    <tr>\n",
       "      <th>68</th>\n",
       "      <td>Infosys</td>\n",
       "      <td>43.0</td>\n",
       "      <td>4034.0</td>\n",
       "      <td>Mumbai</td>\n",
       "      <td>India</td>\n",
       "      <td>Female</td>\n",
       "    </tr>\n",
       "    <tr>\n",
       "      <th>75</th>\n",
       "      <td>Infosys</td>\n",
       "      <td>44.0</td>\n",
       "      <td>3000.0</td>\n",
       "      <td>Cochin</td>\n",
       "      <td>India</td>\n",
       "      <td>Female</td>\n",
       "    </tr>\n",
       "    <tr>\n",
       "      <th>86</th>\n",
       "      <td>Infosys</td>\n",
       "      <td>41.0</td>\n",
       "      <td>3000.0</td>\n",
       "      <td>Delhi</td>\n",
       "      <td>India</td>\n",
       "      <td>Female</td>\n",
       "    </tr>\n",
       "    <tr>\n",
       "      <th>93</th>\n",
       "      <td>Infosys</td>\n",
       "      <td>54.0</td>\n",
       "      <td>3184.0</td>\n",
       "      <td>Mumbai</td>\n",
       "      <td>India</td>\n",
       "      <td>Female</td>\n",
       "    </tr>\n",
       "    <tr>\n",
       "      <th>104</th>\n",
       "      <td>Infosys</td>\n",
       "      <td>44.0</td>\n",
       "      <td>4034.0</td>\n",
       "      <td>Delhi</td>\n",
       "      <td>India</td>\n",
       "      <td>Female</td>\n",
       "    </tr>\n",
       "    <tr>\n",
       "      <th>122</th>\n",
       "      <td>Infosys</td>\n",
       "      <td>44.0</td>\n",
       "      <td>3234.0</td>\n",
       "      <td>Mumbai</td>\n",
       "      <td>India</td>\n",
       "      <td>Female</td>\n",
       "    </tr>\n",
       "    <tr>\n",
       "      <th>129</th>\n",
       "      <td>Infosys</td>\n",
       "      <td>50.0</td>\n",
       "      <td>3184.0</td>\n",
       "      <td>Calcutta</td>\n",
       "      <td>India</td>\n",
       "      <td>Female</td>\n",
       "    </tr>\n",
       "    <tr>\n",
       "      <th>138</th>\n",
       "      <td>CTS</td>\n",
       "      <td>44.0</td>\n",
       "      <td>3033.0</td>\n",
       "      <td>Cochin</td>\n",
       "      <td>India</td>\n",
       "      <td>Female</td>\n",
       "    </tr>\n",
       "    <tr>\n",
       "      <th>140</th>\n",
       "      <td>Infosys</td>\n",
       "      <td>44.0</td>\n",
       "      <td>4034.0</td>\n",
       "      <td>Hyderabad</td>\n",
       "      <td>India</td>\n",
       "      <td>Female</td>\n",
       "    </tr>\n",
       "    <tr>\n",
       "      <th>145</th>\n",
       "      <td>Infosys</td>\n",
       "      <td>44.0</td>\n",
       "      <td>4034.0</td>\n",
       "      <td>Delhi</td>\n",
       "      <td>India</td>\n",
       "      <td>Male</td>\n",
       "    </tr>\n",
       "  </tbody>\n",
       "</table>\n",
       "</div>"
      ],
      "text/plain": [
       "     COMPANY   AGE  SALARY       CITY COUNTRY  GENDER\n",
       "21   Infosys  50.0  3184.0      Delhi   India  Female\n",
       "32   Infosys  45.0  4034.0   Calcutta   India  Female\n",
       "39   Infosys  41.0  3000.0     Mumbai   India  Female\n",
       "50   Infosys  41.0  3000.0    Chennai   India  Female\n",
       "57   Infosys  51.0  3184.0  Hyderabad   India  Female\n",
       "68   Infosys  43.0  4034.0     Mumbai   India  Female\n",
       "75   Infosys  44.0  3000.0     Cochin   India  Female\n",
       "86   Infosys  41.0  3000.0      Delhi   India  Female\n",
       "93   Infosys  54.0  3184.0     Mumbai   India  Female\n",
       "104  Infosys  44.0  4034.0      Delhi   India  Female\n",
       "122  Infosys  44.0  3234.0     Mumbai   India  Female\n",
       "129  Infosys  50.0  3184.0   Calcutta   India  Female\n",
       "138      CTS  44.0  3033.0     Cochin   India  Female\n",
       "140  Infosys  44.0  4034.0  Hyderabad   India  Female\n",
       "145  Infosys  44.0  4034.0      Delhi   India    Male"
      ]
     },
     "execution_count": 55,
     "metadata": {},
     "output_type": "execute_result"
    }
   ],
   "source": [
    "print('Filtered data : \\n')\n",
    "filtered=dfc[(dfc['AGE']> 40) & (dfc['SALARY']<5000)]\n",
    "filtered"
   ]
  },
  {
   "cell_type": "markdown",
   "id": "6bacb220-4475-4c19-be25-9a655755c075",
   "metadata": {},
   "source": [
    "#### Plot the chart with age and salary"
   ]
  },
  {
   "cell_type": "code",
   "execution_count": 57,
   "id": "3f1e41bc-64b4-42ef-a3f5-60eda9421c18",
   "metadata": {},
   "outputs": [
    {
     "data": {
      "image/png": "[encoded data removed]",
      "text/plain": [
       "<Figure size 800x600 with 1 Axes>"
      ]
     },
     "metadata": {},
     "output_type": "display_data"
    }
   ],
   "source": [
    "plt.figure(figsize=(8, 6))\n",
    "sns.scatterplot(data=filtered, x='AGE', y='SALARY', hue='CITY', palette='viridis')\n",
    "plt.title('Scatter Plot of Filtered Data')\n",
    "plt.xlabel('AGE')\n",
    "plt.ylabel('SALARY')\n",
    "plt.legend(title='CITY')\n",
    "plt.show()"
   ]
  },
  {
   "cell_type": "markdown",
   "id": "b4cb660c-de3f-45d9-952b-a7004d20e42c",
   "metadata": {},
   "source": [
    "#### Count the number of people from each place and represent it visually\n"
   ]
  },
  {
   "cell_type": "code",
   "execution_count": 59,
   "id": "73f8532c-39b0-426c-8e9d-2c7ec223ebfe",
   "metadata": {},
   "outputs": [
    {
     "data": {
      "text/plain": [
       "CITY\n",
       "Mumbai        48\n",
       "Calcutta      32\n",
       "Chennai       14\n",
       "Delhi         14\n",
       "Cochin        13\n",
       "Noida          8\n",
       "Hyderabad      8\n",
       "Podicherry     3\n",
       "Pune           2\n",
       "Bhopal         1\n",
       "Nagpur         1\n",
       "Name: count, dtype: int64"
      ]
     },
     "execution_count": 59,
     "metadata": {},
     "output_type": "execute_result"
    }
   ],
   "source": [
    "# Count the number of people from each place\n",
    "place_count = dfc['CITY'].value_counts()\n",
    "place_count"
   ]
  },
  {
   "cell_type": "code",
   "execution_count": 60,
   "id": "fe34a3b5-75b1-429a-a164-a38a217734c2",
   "metadata": {},
   "outputs": [
    {
     "data": {
      "image/png": "[encoded data removed]",
      "text/plain": [
       "<Figure size 800x500 with 1 Axes>"
      ]
     },
     "metadata": {},
     "output_type": "display_data"
    }
   ],
   "source": [
    "# Plot the counts\n",
    "plt.figure(figsize=(8, 5))\n",
    "sns.barplot(x=place_count.index, y=place_count.values, palette='viridis')\n",
    "plt.title('Number of People from Each Place')\n",
    "plt.xlabel('Place')\n",
    "plt.xticks(rotation=45)\n",
    "plt.ylabel('Count')\n",
    "plt.show()"
   ]
  },
  {
   "cell_type": "markdown",
   "id": "445ba6fe-972e-4112-8453-0845ef2a1070",
   "metadata": {},
   "source": [
    "## Data Encoding: (Score : 2)"
   ]
  },
  {
   "cell_type": "markdown",
   "id": "14f5e934-4d9a-4673-a05b-191fb50b0ed7",
   "metadata": {},
   "source": [
    "<font size=\"3\">Convert categorical variables into numerical representations using techniques such as one-hot\n",
    "encoding, label encoding, making them suitable for analysis by machine learning algorithms."
   ]
  },
  {
   "cell_type": "code",
   "execution_count": 63,
   "id": "4b84e780-a0e3-4bf1-9364-7604a4b73f13",
   "metadata": {},
   "outputs": [],
   "source": [
    "from sklearn.preprocessing import LabelEncoder"
   ]
  },
  {
   "cell_type": "code",
   "execution_count": 64,
   "id": "7ccddf1b-0f3c-43dc-885b-9639a05d4ae7",
   "metadata": {},
   "outputs": [
    {
     "data": {
      "text/html": [
       "<div>\n",
       "<style scoped>\n",
       "    .dataframe tbody tr th:only-of-type {\n",
       "        vertical-align: middle;\n",
       "    }\n",
       "\n",
       "    .dataframe tbody tr th {\n",
       "        vertical-align: top;\n",
       "    }\n",
       "\n",
       "    .dataframe thead th {\n",
       "        text-align: right;\n",
       "    }\n",
       "</style>\n",
       "<table border=\"1\" class=\"dataframe\">\n",
       "  <thead>\n",
       "    <tr style=\"text-align: right;\">\n",
       "      <th></th>\n",
       "      <th>COMPANY</th>\n",
       "      <th>AGE</th>\n",
       "      <th>SALARY</th>\n",
       "      <th>CITY</th>\n",
       "      <th>COUNTRY</th>\n",
       "      <th>GENDER</th>\n",
       "    </tr>\n",
       "  </thead>\n",
       "  <tbody>\n",
       "    <tr>\n",
       "      <th>0</th>\n",
       "      <td>TCS</td>\n",
       "      <td>20.0</td>\n",
       "      <td>5312.467742</td>\n",
       "      <td>Chennai</td>\n",
       "      <td>India</td>\n",
       "      <td>Female</td>\n",
       "    </tr>\n",
       "    <tr>\n",
       "      <th>1</th>\n",
       "      <td>Infosys</td>\n",
       "      <td>30.0</td>\n",
       "      <td>5312.467742</td>\n",
       "      <td>Mumbai</td>\n",
       "      <td>India</td>\n",
       "      <td>Female</td>\n",
       "    </tr>\n",
       "  </tbody>\n",
       "</table>\n",
       "</div>"
      ],
      "text/plain": [
       "   COMPANY   AGE       SALARY     CITY COUNTRY  GENDER\n",
       "0      TCS  20.0  5312.467742  Chennai   India  Female\n",
       "1  Infosys  30.0  5312.467742   Mumbai   India  Female"
      ]
     },
     "execution_count": 64,
     "metadata": {},
     "output_type": "execute_result"
    }
   ],
   "source": [
    "dfc.head(2)"
   ]
  },
  {
   "cell_type": "code",
   "execution_count": 114,
   "id": "6e169382-8b1d-4657-854e-b17bce3057e0",
   "metadata": {},
   "outputs": [],
   "source": [
    "# Apply Label Encoding\n",
    "label_encoder = LabelEncoder()\n",
    "dfc['AGE']=label_encoder.fit_transform(dfc['AGE'])\n",
    "dfc['SALARY']=label_encoder.fit_transform(dfc['SALARY'])"
   ]
  },
  {
   "cell_type": "code",
   "execution_count": 116,
   "id": "9ee4719b-17e7-4b89-b8ee-2048091320ca",
   "metadata": {},
   "outputs": [
    {
     "name": "stdout",
     "output_type": "stream",
     "text": [
      "Dataset after Label encoding for Nominal columns :\n",
      "\n"
     ]
    },
    {
     "data": {
      "text/html": [
       "<div>\n",
       "<style scoped>\n",
       "    .dataframe tbody tr th:only-of-type {\n",
       "        vertical-align: middle;\n",
       "    }\n",
       "\n",
       "    .dataframe tbody tr th {\n",
       "        vertical-align: top;\n",
       "    }\n",
       "\n",
       "    .dataframe thead th {\n",
       "        text-align: right;\n",
       "    }\n",
       "</style>\n",
       "<table border=\"1\" class=\"dataframe\">\n",
       "  <thead>\n",
       "    <tr style=\"text-align: right;\">\n",
       "      <th></th>\n",
       "      <th>COMPANY</th>\n",
       "      <th>AGE</th>\n",
       "      <th>SALARY</th>\n",
       "      <th>CITY</th>\n",
       "      <th>COUNTRY</th>\n",
       "      <th>GENDER</th>\n",
       "    </tr>\n",
       "  </thead>\n",
       "  <tbody>\n",
       "    <tr>\n",
       "      <th>0</th>\n",
       "      <td>4</td>\n",
       "      <td>3</td>\n",
       "      <td>21</td>\n",
       "      <td>2</td>\n",
       "      <td>0</td>\n",
       "      <td>0</td>\n",
       "    </tr>\n",
       "    <tr>\n",
       "      <th>1</th>\n",
       "      <td>2</td>\n",
       "      <td>10</td>\n",
       "      <td>21</td>\n",
       "      <td>6</td>\n",
       "      <td>0</td>\n",
       "      <td>0</td>\n",
       "    </tr>\n",
       "    <tr>\n",
       "      <th>2</th>\n",
       "      <td>4</td>\n",
       "      <td>15</td>\n",
       "      <td>3</td>\n",
       "      <td>1</td>\n",
       "      <td>0</td>\n",
       "      <td>0</td>\n",
       "    </tr>\n",
       "  </tbody>\n",
       "</table>\n",
       "</div>"
      ],
      "text/plain": [
       "   COMPANY  AGE  SALARY  CITY  COUNTRY  GENDER\n",
       "0        4    3      21     2        0       0\n",
       "1        2   10      21     6        0       0\n",
       "2        4   15       3     1        0       0"
      ]
     },
     "execution_count": 116,
     "metadata": {},
     "output_type": "execute_result"
    }
   ],
   "source": [
    "print('Dataset after Label encoding for Nominal columns :\\n')\n",
    "dfc.head(3)"
   ]
  },
  {
   "cell_type": "code",
   "execution_count": null,
   "id": "6db93842-7a18-439e-b70f-809f234fc20f",
   "metadata": {},
   "outputs": [],
   "source": []
  },
  {
   "cell_type": "code",
   "execution_count": 118,
   "id": "cdcd4aef-1507-4957-952e-432264a808ca",
   "metadata": {},
   "outputs": [
    {
     "name": "stdout",
     "output_type": "stream",
     "text": [
      "One-Hot Encoded Data:\n",
      "     AGE  SALARY  CITY_0  CITY_1  CITY_2  CITY_3  CITY_4  CITY_5  CITY_6  \\\n",
      "0      3      21   False   False    True   False   False   False   False   \n",
      "1     10      21   False   False   False   False   False   False    True   \n",
      "2     15       3   False    True   False   False   False   False   False   \n",
      "3     19       5   False   False   False   False    True   False   False   \n",
      "4      6      12   False   False   False   False   False   False    True   \n",
      "..   ...     ...     ...     ...     ...     ...     ...     ...     ...   \n",
      "142    5      33   False   False   False   False   False   False    True   \n",
      "143   13      38   False    True   False   False   False   False   False   \n",
      "145   22      13   False   False   False   False    True   False   False   \n",
      "146   13      19   False   False   False   False   False   False    True   \n",
      "147    5      33   False   False   False    True   False   False   False   \n",
      "\n",
      "     CITY_7  ...  CITY_10  COMPANY_0  COMPANY_1  COMPANY_2  COMPANY_3  \\\n",
      "0     False  ...    False      False      False      False      False   \n",
      "1     False  ...    False      False      False       True      False   \n",
      "2     False  ...    False      False      False      False      False   \n",
      "3     False  ...    False      False      False       True      False   \n",
      "4     False  ...    False      False      False      False      False   \n",
      "..      ...  ...      ...        ...        ...        ...        ...   \n",
      "142   False  ...    False      False      False      False       True   \n",
      "143   False  ...    False      False      False      False      False   \n",
      "145   False  ...    False      False      False       True      False   \n",
      "146   False  ...    False      False      False      False      False   \n",
      "147   False  ...    False      False      False       True      False   \n",
      "\n",
      "     COMPANY_4  COMPANY_5  COUNTRY_0  GENDER_0  GENDER_1  \n",
      "0         True      False       True      True     False  \n",
      "1        False      False       True      True     False  \n",
      "2         True      False       True      True     False  \n",
      "3        False      False       True      True     False  \n",
      "4         True      False       True      True     False  \n",
      "..         ...        ...        ...       ...       ...  \n",
      "142      False      False       True      True     False  \n",
      "143       True      False       True     False      True  \n",
      "145      False      False       True     False      True  \n",
      "146       True      False       True     False      True  \n",
      "147      False      False       True      True     False  \n",
      "\n",
      "[144 rows x 22 columns]\n"
     ]
    }
   ],
   "source": [
    "# Apply One-Hot Encoding\n",
    "one_hot_encoded = pd.get_dummies(dfc, columns=['CITY', 'COMPANY', 'COUNTRY','GENDER'], prefix=['CITY', 'COMPANY', 'COUNTRY','GENDER'])\n",
    "print(\"One-Hot Encoded Data:\")\n",
    "print(one_hot_encoded)"
   ]
  },
  {
   "cell_type": "markdown",
   "id": "6c9f3003-643d-45f2-87a0-3cd9de18bef6",
   "metadata": {},
   "source": [
    "## Feature Scaling: (Score : 2)\n",
    "<font size=3>After the process of encoding, perform the scaling of the features using standardscaler and\n",
    "minmaxscaler.\n"
   ]
  },
  {
   "cell_type": "code",
   "execution_count": 120,
   "id": "61c4ed68-8d12-426b-a2f7-e84cd5bb3039",
   "metadata": {},
   "outputs": [],
   "source": [
    "from sklearn.preprocessing import StandardScaler, MinMaxScaler\n",
    "\n",
    "# Initialize StandardScaler and MinMaxScaler\n",
    "standard_scaler = StandardScaler()\n",
    "minmax_scaler = MinMaxScaler()"
   ]
  },
  {
   "cell_type": "code",
   "execution_count": 124,
   "id": "c838684b-41ee-4f08-8789-12e15abcf930",
   "metadata": {},
   "outputs": [
    {
     "name": "stdout",
     "output_type": "stream",
     "text": [
      "Data after Standard Scaling:\n",
      "   COMPANY       AGE    SALARY  CITY  COUNTRY  GENDER\n",
      "0        4 -1.246731  0.139604     2        0       0\n",
      "1        2 -0.312378  0.139604     6        0       0\n",
      "2        4  0.355017 -1.368123     1        0       0\n",
      "3        2  0.888933 -1.200598     4        0       0\n",
      "4        4 -0.846294 -0.614259     6        0       0\n",
      "5        2 -0.979773 -0.195446     1        0       0\n",
      "6        4 -0.979773  0.558417     2        0       1\n",
      "7        2 -0.846294  0.809705     6        0       1\n",
      "8        4  0.221538  1.060993     1        0       1\n",
      "9        0  1.422849  1.479806     4        0       0\n",
      "\n",
      "Data after Min-Max Scaling:\n",
      "   COMPANY       AGE  SALARY  CITY  COUNTRY  GENDER\n",
      "0        4  0.107143   0.525     2        0       0\n",
      "1        2  0.357143   0.525     6        0       0\n",
      "2        4  0.535714   0.075     1        0       0\n",
      "3        2  0.678571   0.125     4        0       0\n",
      "4        4  0.214286   0.300     6        0       0\n",
      "5        2  0.178571   0.425     1        0       0\n",
      "6        4  0.178571   0.650     2        0       1\n",
      "7        2  0.214286   0.725     6        0       1\n",
      "8        4  0.500000   0.800     1        0       1\n",
      "9        0  0.821429   0.925     4        0       0\n"
     ]
    }
   ],
   "source": [
    "# Select only the numerical columns i.e., 'AGE', 'SALARY'\n",
    "numerical_columns = ['AGE', 'SALARY']\n",
    "# Apply StandardScaler to numerical columns\n",
    "dfc_standard_scaled = dfc.copy()\n",
    "dfc_standard_scaled[numerical_columns] = standard_scaler.fit_transform(dfc_standard_scaled[numerical_columns])\n",
    "\n",
    "# Applying MinMaxScaler to numerical columns\n",
    "dfc_minmax_scaled = dfc.copy()\n",
    "dfc_minmax_scaled[numerical_columns] = minmax_scaler.fit_transform(dfc_minmax_scaled[numerical_columns])\n",
    "\n",
    "# Display the first few rows of the scaled data\n",
    "print(\"Data after Standard Scaling:\")\n",
    "print(dfc_standard_scaled.head(10))\n",
    "\n",
    "print(\"\\nData after Min-Max Scaling:\")\n",
    "print(dfc_minmax_scaled.head(10))"
   ]
  },
  {
   "cell_type": "markdown",
   "id": "9727124f-15b2-4820-9b57-3dfbcd05efc6",
   "metadata": {},
   "source": [
    "<font size=3 color='green'>Feature Scaling using MIN-MAX Scaling method and STANDARD Scaling method is done"
   ]
  },
  {
   "cell_type": "code",
   "execution_count": null,
   "id": "fb603db2-1a76-4c0c-b8c0-822ad6abaab4",
   "metadata": {},
   "outputs": [],
   "source": []
  }
 ],
 "metadata": {
  "kernelspec": {
   "display_name": "Python 3 (ipykernel)",
   "language": "python",
   "name": "python3"
  },
  "language_info": {
   "codemirror_mode": {
    "name": "ipython",
    "version": 3
   },
   "file_extension": ".py",
   "mimetype": "text/x-python",
   "name": "python",
   "nbconvert_exporter": "python",
   "pygments_lexer": "ipython3",
   "version": "3.11.5"
  }
 },
 "nbformat": 4,
 "nbformat_minor": 5
}
